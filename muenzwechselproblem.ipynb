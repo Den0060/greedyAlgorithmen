{
 "cells": [
  {
   "metadata": {},
   "cell_type": "markdown",
   "source": [
    "<h1>Erklärung:</h1> Hier wird ein Betrag genannt, den der Greedy-Algorithmus mit so wenigen Münzen wie möglich \"ausgeben\" soll.\n",
    "Der Algorithmus wählt dabei immer die größtmögliche Münze, die noch in den Betrag passt, bis der Betrag vollständig aufgeteilt ist."
   ],
   "id": "cb52f3a07fadf7f8"
  },
  {
   "cell_type": "code",
   "id": "initial_id",
   "metadata": {
    "collapsed": true,
    "ExecuteTime": {
     "end_time": "2024-11-22T16:14:57.097324Z",
     "start_time": "2024-11-22T16:14:57.094002Z"
    }
   },
   "source": [
    "def muenzwechsel_greedy(betrag):\n",
    "    betrag = int(betrag * 100)\n",
    "    m = [200, 100, 50, 20, 10, 5, 2, 1]\n",
    "    ergebnis = {} \n",
    "    for mue in m:\n",
    "        anzahl = betrag // mue # Ganzzahldivision\n",
    "        if anzahl > 0:\n",
    "            ergebnis[mue / 100] = anzahl # Wert als Key, Anzahl als Value\n",
    "            betrag %= mue\n",
    "    return ergebnis"
   ],
   "outputs": [],
   "execution_count": 10
  },
  {
   "metadata": {},
   "cell_type": "markdown",
   "source": "<h1>Beispiel 1:</h1>",
   "id": "a769427a115591b0"
  },
  {
   "metadata": {
    "ExecuteTime": {
     "end_time": "2024-11-22T16:14:57.427927Z",
     "start_time": "2024-11-22T16:14:57.424971Z"
    }
   },
   "cell_type": "code",
   "source": [
    "betrag = 4.37  # Betrag in Euro\n",
    "print(muenzwechsel_greedy(betrag))"
   ],
   "id": "3a90157d2c177f5c",
   "outputs": [
    {
     "name": "stdout",
     "output_type": "stream",
     "text": [
      "{2.0: 2, 0.2: 1, 0.1: 1, 0.05: 1, 0.02: 1}\n"
     ]
    }
   ],
   "execution_count": 11
  },
  {
   "metadata": {},
   "cell_type": "markdown",
   "source": "<h1>Beispiel 2:</h1>",
   "id": "a6f3584e732bf8a8"
  },
  {
   "metadata": {
    "ExecuteTime": {
     "end_time": "2024-11-22T16:15:33.667790Z",
     "start_time": "2024-11-22T16:15:33.663772Z"
    }
   },
   "cell_type": "code",
   "source": [
    "betrag = 0.99\n",
    "print(muenzwechsel_greedy(betrag))"
   ],
   "id": "3a35b4482d66c269",
   "outputs": [
    {
     "name": "stdout",
     "output_type": "stream",
     "text": [
      "{0.5: 1, 0.2: 2, 0.05: 1, 0.02: 2}\n"
     ]
    }
   ],
   "execution_count": 12
  },
  {
   "metadata": {},
   "cell_type": "code",
   "outputs": [],
   "execution_count": null,
   "source": "",
   "id": "bfabc2807c67dcb0"
  }
 ],
 "metadata": {
  "kernelspec": {
   "display_name": "Python 3",
   "language": "python",
   "name": "python3"
  },
  "language_info": {
   "codemirror_mode": {
    "name": "ipython",
    "version": 2
   },
   "file_extension": ".py",
   "mimetype": "text/x-python",
   "name": "python",
   "nbconvert_exporter": "python",
   "pygments_lexer": "ipython2",
   "version": "2.7.6"
  }
 },
 "nbformat": 4,
 "nbformat_minor": 5
}
