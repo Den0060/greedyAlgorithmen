{
 "cells": [
  {
   "metadata": {},
   "cell_type": "markdown",
   "source": "<h1>Erklärung:</h1> Bei dieser Variante funktioniert der Algorithmus nicht perfekt, da die Funktion nur ganze Items berücksichtigt.",
   "id": "58d3a3c9c7707a0b"
  },
  {
   "metadata": {
    "ExecuteTime": {
     "end_time": "2024-11-24T03:07:47.665543Z",
     "start_time": "2024-11-24T03:07:47.656025Z"
    }
   },
   "cell_type": "code",
   "source": [
    "def knapsack_greedy(items, capacity):\n",
    "    # Sortiere nach Wert/Gewicht-Verhältnis\n",
    "    items.sort(key=lambda x: x[0] / x[1], reverse=True)\n",
    "    \n",
    "    total_value = 0\n",
    "    for value, weight in items:\n",
    "        if capacity >= weight:\n",
    "            # Ganzes Objekt aufnehmen\n",
    "            total_value += value\n",
    "            capacity -= weight\n",
    "        else:\n",
    "            # Objekt passt nicht vollständig, überspringen\n",
    "            continue\n",
    "\n",
    "    return total_value"
   ],
   "id": "34ddae2674c110f",
   "outputs": [],
   "execution_count": 1
  },
  {
   "metadata": {},
   "cell_type": "markdown",
   "source": "<h1>Beispiel</h1>",
   "id": "c028fe5f2f8ce685"
  },
  {
   "metadata": {
    "ExecuteTime": {
     "end_time": "2024-11-24T03:07:50.576584Z",
     "start_time": "2024-11-24T03:07:50.573107Z"
    }
   },
   "cell_type": "code",
   "source": [
    "items = [\n",
    "    (60, 10), \n",
    "    (100, 20), \n",
    "    (120, 30)]\n",
    "\n",
    "capacity = 50\n",
    "print(f\"Maximaler Wert (0/1, greedy): {knapsack_greedy(items, capacity)}\")"
   ],
   "id": "ac07915629cab82b",
   "outputs": [
    {
     "name": "stdout",
     "output_type": "stream",
     "text": [
      "Maximaler Wert (0/1, greedy): 160\n"
     ]
    }
   ],
   "execution_count": 2
  },
  {
   "metadata": {},
   "cell_type": "markdown",
   "source": "<h1>Erklärung:</h1> Bei dieser Variante funktioniert der Algorithmus optimal, da er auch Bruchteile erlaubt.",
   "id": "9c2765ff3c68a5a1"
  },
  {
   "metadata": {
    "ExecuteTime": {
     "end_time": "2024-11-24T03:07:52.764542Z",
     "start_time": "2024-11-24T03:07:52.760472Z"
    }
   },
   "cell_type": "code",
   "source": [
    "def knapsack_greedy_fractional(items, capacity):\n",
    "    # Sortiere die Objekte nach absteigendem Wert-zu-Gewicht-Verhältnis\n",
    "    items.sort(key=lambda x: x[0] / x[1], reverse=True)\n",
    "\n",
    "    total_value = 0\n",
    "    for value, weight in items:\n",
    "        if capacity >= weight:\n",
    "            # Wenn das gesamte Item aufgenommen werden kann\n",
    "            capacity -= weight\n",
    "            total_value += value\n",
    "        else:\n",
    "            # Wenn nur ein Bruchteil des Items aufgenommen werden kann\n",
    "            total_value += value * (capacity / weight)\n",
    "            break \n",
    "\n",
    "    return total_value"
   ],
   "id": "f8b3452fcc4b9424",
   "outputs": [],
   "execution_count": 3
  },
  {
   "metadata": {
    "ExecuteTime": {
     "end_time": "2024-11-24T03:07:53.328696Z",
     "start_time": "2024-11-24T03:07:53.325214Z"
    }
   },
   "cell_type": "code",
   "source": [
    "items = [\n",
    "    (60, 10),\n",
    "    (100, 20),\n",
    "    (120, 30)\n",
    "]\n",
    "capacity = 50\n",
    "\n",
    "print(f\"Maximaler Wert (teilbar, greedy): {knapsack_greedy_fractional(items, capacity)}\")"
   ],
   "id": "98efb435083f8925",
   "outputs": [
    {
     "name": "stdout",
     "output_type": "stream",
     "text": [
      "Maximaler Wert (teilbar, greedy): 240.0\n"
     ]
    }
   ],
   "execution_count": 4
  },
  {
   "metadata": {},
   "cell_type": "code",
   "outputs": [],
   "execution_count": null,
   "source": "",
   "id": "809cda10b5bcad6"
  }
 ],
 "metadata": {
  "kernelspec": {
   "display_name": "Python 3",
   "language": "python",
   "name": "python3"
  },
  "language_info": {
   "codemirror_mode": {
    "name": "ipython",
    "version": 2
   },
   "file_extension": ".py",
   "mimetype": "text/x-python",
   "name": "python",
   "nbconvert_exporter": "python",
   "pygments_lexer": "ipython2",
   "version": "2.7.6"
  }
 },
 "nbformat": 4,
 "nbformat_minor": 5
}
