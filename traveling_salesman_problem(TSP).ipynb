{
 "cells": [
  {
   "metadata": {},
   "cell_type": "markdown",
   "source": "<h1>Erklärung:</h1> Es wird eine Route gesucht, die eine gegebene Menge von Punkten besucht und dabei die Gesamtstrecke minimiert. Der Greedy-Algorithmus wählt an jedem Schritt immer den nächstgelegenen Punkt, der noch nicht besucht wurde, und kehrt am Ende zum Startpunkt zurück.",
   "id": "11bb13a9429dda99"
  },
  {
   "cell_type": "code",
   "id": "initial_id",
   "metadata": {
    "collapsed": true,
    "ExecuteTime": {
     "end_time": "2024-11-24T16:38:22.363621Z",
     "start_time": "2024-11-24T16:38:22.357751Z"
    }
   },
   "source": "import math",
   "outputs": [],
   "execution_count": 1
  },
  {
   "metadata": {
    "ExecuteTime": {
     "end_time": "2024-11-23T18:54:49.006345Z",
     "start_time": "2024-11-23T18:54:49.002780Z"
    }
   },
   "cell_type": "code",
   "source": [
    "def distance(point1, point2):\n",
    "    # Berechnet die euklidische Distanz zwischen zwei Punkten\n",
    "    return math.sqrt((point1[0] - point2[0]) ** 2 + (point1[1] - point2[1]) ** 2)"
   ],
   "id": "225f7e08b2038a0b",
   "outputs": [],
   "execution_count": 6
  },
  {
   "metadata": {},
   "cell_type": "markdown",
   "source": [
    "<img src=\"Abstand.png\" width=\"400\" height=\"350\">\n",
    "\n",
    "https://www.matheprisma.uni-wuppertal.de/Module/PI/pages/node8.htm"
   ],
   "id": "a5855569391044df"
  },
  {
   "metadata": {
    "ExecuteTime": {
     "end_time": "2024-11-23T18:54:50.739133Z",
     "start_time": "2024-11-23T18:54:50.735038Z"
    }
   },
   "cell_type": "code",
   "source": [
    "def greedy_tsp(points):\n",
    "    # Findet eine Lösung für das TSP-Problem mit einer Greedy-Strategie\n",
    "    if not points:\n",
    "        return []\n",
    "\n",
    "    unvisited = points[:]\n",
    "    path = [unvisited.pop(0)]  # Start bei der ersten Stadt\n",
    "\n",
    "    while unvisited:\n",
    "        nearest = min(unvisited, key=lambda point: distance(path[-1], point))\n",
    "        path.append(nearest)\n",
    "        unvisited.remove(nearest)\n",
    "\n",
    "    path.append(path[0])  # Rückkehr zur Startstadt\n",
    "    return path"
   ],
   "id": "c2921ae3378d5716",
   "outputs": [],
   "execution_count": 7
  },
  {
   "metadata": {
    "ExecuteTime": {
     "end_time": "2024-11-23T18:54:51.588796Z",
     "start_time": "2024-11-23T18:54:51.584490Z"
    }
   },
   "cell_type": "code",
   "source": [
    "points = [\n",
    "    (0, 0),  # Startstadt\n",
    "    (2, 3),\n",
    "    (3, 1),\n",
    "    (5, 4),\n",
    "    (7, 2)\n",
    "]\n",
    "\n",
    "path = greedy_tsp(points)\n",
    "print(\"Greedy-Pfad:\", path)"
   ],
   "id": "8f8f6b71566ce37",
   "outputs": [
    {
     "name": "stdout",
     "output_type": "stream",
     "text": [
      "Greedy-Pfad für TSP: [(0, 0), (3, 1), (2, 3), (5, 4), (7, 2), (0, 0)]\n"
     ]
    }
   ],
   "execution_count": 8
  },
  {
   "metadata": {},
   "cell_type": "markdown",
   "source": "<h1>Koordinatensystem/Zeichnung zu dem oben gelisteten Beispiel:</h1>",
   "id": "ff8a180aba37c49b"
  },
  {
   "metadata": {},
   "cell_type": "markdown",
   "source": "<img src=\"trv2.png\" width=\"650\" height=\"500\">",
   "id": "46ffcb97ec14a474"
  }
 ],
 "metadata": {
  "kernelspec": {
   "display_name": "Python 3",
   "language": "python",
   "name": "python3"
  },
  "language_info": {
   "codemirror_mode": {
    "name": "ipython",
    "version": 2
   },
   "file_extension": ".py",
   "mimetype": "text/x-python",
   "name": "python",
   "nbconvert_exporter": "python",
   "pygments_lexer": "ipython2",
   "version": "2.7.6"
  }
 },
 "nbformat": 4,
 "nbformat_minor": 5
}
